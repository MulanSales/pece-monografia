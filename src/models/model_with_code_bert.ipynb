{
 "cells": [
  {
   "cell_type": "code",
   "execution_count": 2,
   "metadata": {},
   "outputs": [
    {
     "name": "stderr",
     "output_type": "stream",
     "text": [
      "2024-11-30 16:07:19.804532: I tensorflow/core/util/port.cc:153] oneDNN custom operations are on. You may see slightly different numerical results due to floating-point round-off errors from different computation orders. To turn them off, set the environment variable `TF_ENABLE_ONEDNN_OPTS=0`.\n",
      "2024-11-30 16:07:19.885200: E external/local_xla/xla/stream_executor/cuda/cuda_fft.cc:485] Unable to register cuFFT factory: Attempting to register factory for plugin cuFFT when one has already been registered\n",
      "2024-11-30 16:07:19.913486: E external/local_xla/xla/stream_executor/cuda/cuda_dnn.cc:8454] Unable to register cuDNN factory: Attempting to register factory for plugin cuDNN when one has already been registered\n",
      "2024-11-30 16:07:19.919700: E external/local_xla/xla/stream_executor/cuda/cuda_blas.cc:1452] Unable to register cuBLAS factory: Attempting to register factory for plugin cuBLAS when one has already been registered\n",
      "2024-11-30 16:07:19.984306: I tensorflow/core/platform/cpu_feature_guard.cc:210] This TensorFlow binary is optimized to use available CPU instructions in performance-critical operations.\n",
      "To enable the following instructions: SSE4.1 SSE4.2 AVX AVX2 AVX_VNNI FMA, in other operations, rebuild TensorFlow with the appropriate compiler flags.\n"
     ]
    },
    {
     "data": {
      "text/plain": [
       "<module 'scripts.embeddings' from '/mnt/c/Users/luanm/projects/pece-monografia/src/models/scripts/embeddings.py'>"
      ]
     },
     "execution_count": 2,
     "metadata": {},
     "output_type": "execute_result"
    }
   ],
   "source": [
    "# 1. Carregando as bibliotecas base\n",
    "import numpy as np\n",
    "import pandas as pd\n",
    "\n",
    "from sklearn import svm\n",
    "from sklearn.ensemble import RandomForestClassifier\n",
    "from sklearn.model_selection import train_test_split, GridSearchCV\n",
    "from sklearn.decomposition import PCA\n",
    "from sklearn.metrics import accuracy_score, recall_score, precision_score, f1_score, confusion_matrix, classification_report\n",
    "from sklearn.preprocessing import StandardScaler\n",
    "import xgboost as xgb\n",
    "\n",
    "import matplotlib.pyplot as plt\n",
    "import seaborn as sns\n",
    "from importlib import reload\n",
    "import multiprocessing\n",
    "\n",
    "from transformers import RobertaModel, RobertaTokenizer\n",
    "import torch\n",
    "import joblib\n",
    "\n",
    "\n",
    "import scripts.preprocess as pp\n",
    "import scripts.embeddings as eb\n",
    "import scripts.convert as cv\n",
    "\n",
    "reload(cv)\n",
    "reload(pp)\n",
    "reload(eb)"
   ]
  },
  {
   "cell_type": "code",
   "execution_count": 3,
   "metadata": {},
   "outputs": [
    {
     "name": "stdout",
     "output_type": "stream",
     "text": [
      "['GeneratedClass_1.cs', 'GeneratedClass_2.cs', 'GeneratedClass_3.cs', 'GeneratedClass_4.cs', 'GeneratedClass_5.cs', 'GeneratedClass_6.cs', 'GeneratedClass_7.cs', 'GeneratedClass_8.cs', 'GeneratedClass_9.cs', 'GeneratedClass_10.cs', 'GeneratedClass_11.cs', 'GeneratedClass_12.cs', 'GeneratedClass_13.cs', 'GeneratedClass_14.cs', 'GeneratedClass_15.cs', 'GeneratedClass_16.cs', 'GeneratedClass_17.cs', 'GeneratedClass_18.cs', 'GeneratedClass_19.cs', 'GeneratedClass_20.cs', 'GeneratedClass_21.cs', 'GeneratedClass_22.cs', 'GeneratedClass_23.cs', 'GeneratedClass_24.cs', 'GeneratedClass_25.cs', 'GeneratedClass_26.cs', 'GeneratedClass_27.cs', 'GeneratedClass_28.cs', 'GeneratedClass_29.cs', 'GeneratedClass_30.cs', 'GeneratedClass_31.cs', 'GeneratedClass_32.cs', 'GeneratedClass_33.cs', 'GeneratedClass_34.cs', 'GeneratedClass_35.cs', 'GeneratedClass_36.cs', 'GeneratedClass_37.cs', 'GeneratedClass_38.cs', 'GeneratedClass_39.cs', 'GeneratedClass_40.cs', 'GeneratedClass_41.cs', 'GeneratedClass_42.cs', 'GeneratedClass_43.cs', 'GeneratedClass_44.cs', 'GeneratedClass_45.cs', 'GeneratedClass_46.cs', 'GeneratedClass_47.cs', 'GeneratedClass_48.cs', 'GeneratedClass_49.cs', 'GeneratedClass_50.cs', 'GeneratedClass_51.cs', 'GeneratedClass_52.cs', 'GeneratedClass_53.cs', 'GeneratedClass_54.cs', 'GeneratedClass_55.cs', 'GeneratedClass_56.cs', 'GeneratedClass_57.cs', 'GeneratedClass_58.cs', 'GeneratedClass_59.cs', 'GeneratedClass_60.cs', 'GeneratedClass_61.cs', 'GeneratedClass_62.cs', 'GeneratedClass_63.cs', 'GeneratedClass_64.cs', 'GeneratedClass_65.cs', 'GeneratedClass_66.cs', 'GeneratedClass_67.cs', 'GeneratedClass_68.cs', 'GeneratedClass_69.cs', 'GeneratedClass_70.cs', 'GeneratedClass_71.cs', 'GeneratedClass_72.cs', 'GeneratedClass_73.cs', 'GeneratedClass_74.cs', 'GeneratedClass_75.cs', 'GeneratedClass_76.cs', 'GeneratedClass_77.cs', 'GeneratedClass_78.cs', 'GeneratedClass_79.cs', 'GeneratedClass_80.cs', 'GeneratedClass_81.cs', 'GeneratedClass_82.cs', 'GeneratedClass_83.cs', 'GeneratedClass_84.cs', 'GeneratedClass_85.cs', 'GeneratedClass_86.cs', 'GeneratedClass_87.cs', 'GeneratedClass_88.cs', 'GeneratedClass_89.cs', 'GeneratedClass_90.cs', 'GeneratedClass_91.cs', 'GeneratedClass_92.cs', 'GeneratedClass_93.cs', 'GeneratedClass_94.cs', 'GeneratedClass_95.cs', 'GeneratedClass_96.cs', 'GeneratedClass_97.cs', 'GeneratedClass_98.cs', 'GeneratedClass_99.cs', 'GeneratedClass_100.cs', 'GeneratedClass_101.cs', 'GeneratedClass_102.cs', 'GeneratedClass_103.cs', 'GeneratedClass_104.cs', 'GeneratedClass_105.cs', 'GeneratedClass_106.cs', 'GeneratedClass_107.cs', 'GeneratedClass_108.cs', 'GeneratedClass_109.cs', 'GeneratedClass_110.cs', 'GeneratedClass_111.cs', 'GeneratedClass_112.cs', 'GeneratedClass_113.cs', 'GeneratedClass_114.cs', 'GeneratedClass_115.cs']\n",
      "Successfully converted 115 files to ./inputs/commits.jsonl\n",
      "\n",
      "Trecho de código com maior tamanho: 0\n",
      "\n",
      "Trecho de código com maior tamanho: 22251\n",
      "\n",
      "Tamanho dos labels: 115\n",
      "\n"
     ]
    },
    {
     "data": {
      "text/html": [
       "<div>\n",
       "<style scoped>\n",
       "    .dataframe tbody tr th:only-of-type {\n",
       "        vertical-align: middle;\n",
       "    }\n",
       "\n",
       "    .dataframe tbody tr th {\n",
       "        vertical-align: top;\n",
       "    }\n",
       "\n",
       "    .dataframe thead th {\n",
       "        text-align: right;\n",
       "    }\n",
       "</style>\n",
       "<table border=\"1\" class=\"dataframe\">\n",
       "  <thead>\n",
       "    <tr style=\"text-align: right;\">\n",
       "      <th></th>\n",
       "      <th>new_contents</th>\n",
       "    </tr>\n",
       "  </thead>\n",
       "  <tbody>\n",
       "    <tr>\n",
       "      <th>count</th>\n",
       "      <td>115</td>\n",
       "    </tr>\n",
       "    <tr>\n",
       "      <th>unique</th>\n",
       "      <td>108</td>\n",
       "    </tr>\n",
       "    <tr>\n",
       "      <th>top</th>\n",
       "      <td></td>\n",
       "    </tr>\n",
       "    <tr>\n",
       "      <th>freq</th>\n",
       "      <td>5</td>\n",
       "    </tr>\n",
       "  </tbody>\n",
       "</table>\n",
       "</div>"
      ],
      "text/plain": [
       "       new_contents\n",
       "count           115\n",
       "unique          108\n",
       "top                \n",
       "freq              5"
      ]
     },
     "execution_count": 3,
     "metadata": {},
     "output_type": "execute_result"
    }
   ],
   "source": [
    "# 2. Carregar base de commits que será tratada\n",
    "\n",
    "# Transformar blocos de código em commits\n",
    "cv.convert_to_jsonl('./code_snippets', './inputs/commits.jsonl')\n",
    "\n",
    "# Definir dataframe\n",
    "df = pd.read_json('./inputs/commits.jsonl', lines=True)\n",
    "df_labels = pd.read_csv('./inputs/labels.csv', sep=',')\n",
    "\n",
    "labels = df_labels['Label']\n",
    "\n",
    "print(f\"Trecho de código com maior tamanho: {df['new_contents'].str.len().min()}\\n\")\n",
    "print(f\"Trecho de código com maior tamanho: {df['new_contents'].str.len().max()}\\n\")\n",
    "print(f\"Tamanho dos labels: {len(labels)}\\n\")\n",
    "\n",
    "df.describe()"
   ]
  },
  {
   "cell_type": "code",
   "execution_count": 4,
   "metadata": {},
   "outputs": [
    {
     "data": {
      "text/html": [
       "<div>\n",
       "<style scoped>\n",
       "    .dataframe tbody tr th:only-of-type {\n",
       "        vertical-align: middle;\n",
       "    }\n",
       "\n",
       "    .dataframe tbody tr th {\n",
       "        vertical-align: top;\n",
       "    }\n",
       "\n",
       "    .dataframe thead th {\n",
       "        text-align: right;\n",
       "    }\n",
       "</style>\n",
       "<table border=\"1\" class=\"dataframe\">\n",
       "  <thead>\n",
       "    <tr style=\"text-align: right;\">\n",
       "      <th></th>\n",
       "      <th>new_contents</th>\n",
       "    </tr>\n",
       "  </thead>\n",
       "  <tbody>\n",
       "    <tr>\n",
       "      <th>0</th>\n",
       "      <td></td>\n",
       "    </tr>\n",
       "    <tr>\n",
       "      <th>1</th>\n",
       "      <td>&lt;NEWLINE&gt;  &lt;NEWLINE&gt;  &lt;NEWLINE&gt;  &lt;NEWLINE&gt;  &lt;...</td>\n",
       "    </tr>\n",
       "    <tr>\n",
       "      <th>2</th>\n",
       "      <td></td>\n",
       "    </tr>\n",
       "    <tr>\n",
       "      <th>3</th>\n",
       "      <td>[TestFixture] &lt;NEWLINE&gt;</td>\n",
       "    </tr>\n",
       "    <tr>\n",
       "      <th>4</th>\n",
       "      <td>public string SceneName &lt;NEWLINE&gt;  &lt;NEWLINE&gt;</td>\n",
       "    </tr>\n",
       "  </tbody>\n",
       "</table>\n",
       "</div>"
      ],
      "text/plain": [
       "                                        new_contents\n",
       "0                                                   \n",
       "1   <NEWLINE>  <NEWLINE>  <NEWLINE>  <NEWLINE>  <...\n",
       "2                                                   \n",
       "3                           [TestFixture] <NEWLINE> \n",
       "4      public string SceneName <NEWLINE>  <NEWLINE> "
      ]
     },
     "execution_count": 4,
     "metadata": {},
     "output_type": "execute_result"
    }
   ],
   "source": [
    "# 3. Preprocessar commits\n",
    "df['new_contents'] = df['new_contents'].apply(pp.clean_code_bert)\n",
    "\n",
    "df.head()"
   ]
  },
  {
   "cell_type": "code",
   "execution_count": 5,
   "metadata": {},
   "outputs": [],
   "source": [
    "# 4. Escrever dataframe em csv para validação\n",
    "df.to_csv('./outputs/data_preprocessed.csv', sep=\";\", index=False)\n",
    "\n",
    "x_cleaned = df['new_contents']"
   ]
  },
  {
   "cell_type": "code",
   "execution_count": 8,
   "metadata": {},
   "outputs": [
    {
     "name": "stdout",
     "output_type": "stream",
     "text": [
      "Tamanho da matriz de vetores: (115, 768)\n"
     ]
    }
   ],
   "source": [
    "# 5. Tokenização e geração dos embenddings\n",
    "## Utilizando o codebert como tokenizador e criador do vetor (embeddings)\n",
    "model = RobertaModel.from_pretrained(\"microsoft/codebert-base\")\n",
    "tokenizer = RobertaTokenizer.from_pretrained(\"microsoft/codebert-base\")\n",
    "\n",
    "def get_code_embedding_based_on_cls(code):\n",
    "    inputs = tokenizer(code, return_tensors='pt', padding=True, truncation=True)\n",
    "    with torch.no_grad():   \n",
    "        outputs = model(**inputs)\n",
    "    return outputs.last_hidden_state[:, 0, :].squeeze().numpy()\n",
    "\n",
    "# Converter os snippets de código em embeddings\n",
    "x_vecs = [get_code_embedding_based_on_cls(code) for code in x_cleaned]\n",
    "\n",
    "print(f\"Tamanho da matriz de vetores: {np.array(x_vecs).shape}\")"
   ]
  },
  {
   "cell_type": "code",
   "execution_count": null,
   "metadata": {},
   "outputs": [
    {
     "name": "stdout",
     "output_type": "stream",
     "text": [
      "Melhores parâmetros: {'C': 0.1, 'gamma': 'scale', 'kernel': 'linear'}\n",
      "              precision    recall  f1-score   support\n",
      "\n",
      "           0       0.90      1.00      0.95        26\n",
      "           1       1.00      0.75      0.86         4\n",
      "           2       1.00      1.00      1.00         2\n",
      "           3       1.00      0.33      0.50         3\n",
      "\n",
      "    accuracy                           0.91        35\n",
      "   macro avg       0.97      0.77      0.83        35\n",
      "weighted avg       0.92      0.91      0.90        35\n",
      "\n"
     ]
    }
   ],
   "source": [
    "# 7. Treinar SVM com GridSearchCV\n",
    "X_train, X_test, y_train, y_test = train_test_split(\n",
    "    x_vecs, \n",
    "    labels, \n",
    "    test_size=0.3, \n",
    "    random_state=98, \n",
    "    stratify=labels)\n",
    "\n",
    "scaler = StandardScaler()\n",
    "\n",
    "X_train_scaled = scaler.fit_transform(X_train)\n",
    "\n",
    "X_test_scaled = scaler.transform(X_test)\n",
    "\n",
    "clf = svm.SVC()\n",
    "\n",
    "param_grid = {\n",
    "    'C': [0.1, 1, 10],  # Regularização\n",
    "    'kernel': ['linear', 'rbf'],  # Função de kernel\n",
    "    'gamma': ['scale', 'auto'],  # Parâmetro do kernel\n",
    "}\n",
    "\n",
    "grid_search = GridSearchCV(estimator=clf, param_grid=param_grid, cv=2, scoring='f1_macro')\n",
    "\n",
    "# Treinando o modelo com Grid Search\n",
    "grid_search.fit(X_train_scaled, y_train)\n",
    "\n",
    "# Melhor combinação de hiperparâmetros encontrada\n",
    "best_model = grid_search.best_estimator_\n",
    "y_pred = best_model.predict(X_test_scaled)\n",
    "\n",
    "print(f\"Melhores parâmetros: {grid_search.best_params_}\")\n",
    "print(classification_report(y_test, y_pred,zero_division=0))\n"
   ]
  },
  {
   "cell_type": "code",
   "execution_count": null,
   "metadata": {},
   "outputs": [
    {
     "name": "stdout",
     "output_type": "stream",
     "text": [
      "Melhores parâmetros: {'bootstrap': False, 'max_depth': None, 'min_samples_leaf': 1, 'min_samples_split': 2, 'n_estimators': 50}\n",
      "              precision    recall  f1-score   support\n",
      "\n",
      "           0       0.79      1.00      0.88        26\n",
      "           1       1.00      0.25      0.40         4\n",
      "           2       0.00      0.00      0.00         2\n",
      "           3       1.00      0.33      0.50         3\n",
      "\n",
      "    accuracy                           0.80        35\n",
      "   macro avg       0.70      0.40      0.45        35\n",
      "weighted avg       0.79      0.80      0.74        35\n",
      "\n"
     ]
    }
   ],
   "source": [
    "# 8. Treinar RandomForest com GridSearchCV\n",
    "X_train, X_test, y_train, y_test = train_test_split(x_vecs, labels, test_size=0.3, random_state=98, stratify=labels)\n",
    "\n",
    "# Instanciando o classificador Random Forest\n",
    "rf = RandomForestClassifier(random_state=42)\n",
    "\n",
    "# Definir os parâmetros para o GridSearch\n",
    "param_grid = {\n",
    "    'n_estimators': [10, 50, 100, 200],        # Número de árvores na floresta\n",
    "    'max_depth': [None, 10, 20, 30],           # Profundidade máxima das árvores\n",
    "    'min_samples_split': [2, 5, 10],           # Mínimo de amostras para dividir um nó\n",
    "    'min_samples_leaf': [1, 2, 4],             # Mínimo de amostras por folha\n",
    "    'bootstrap': [True, False],                # Usar amostragem bootstrap\n",
    "}\n",
    "\n",
    "# Configurar GridSearchCV\n",
    "grid_search = GridSearchCV(estimator=rf, param_grid=param_grid, \n",
    "    cv=2, scoring='f1_macro')\n",
    "\n",
    "# Treinando com o GridSearch\n",
    "grid_search.fit(X_train, y_train)\n",
    "\n",
    "# Melhor combinação de hiperparâmetros encontrada\n",
    "best_model = grid_search.best_estimator_\n",
    "y_pred = best_model.predict(X_test)\n",
    "\n",
    "print(f\"Melhores parâmetros: {grid_search.best_params_}\")\n",
    "\n",
    "print(classification_report(y_test, y_pred, zero_division=0))"
   ]
  },
  {
   "cell_type": "code",
   "execution_count": null,
   "metadata": {},
   "outputs": [
    {
     "name": "stdout",
     "output_type": "stream",
     "text": [
      "Melhores parâmetros: {'colsample_bytree': 0.8, 'gamma': 0.5, 'learning_rate': 0.1, 'max_depth': 3, 'n_estimators': 50, 'subsample': 0.8}\n",
      "              precision    recall  f1-score   support\n",
      "\n",
      "           0       0.81      1.00      0.90        26\n",
      "           1       1.00      0.50      0.67         4\n",
      "           2       0.00      0.00      0.00         2\n",
      "           3       1.00      0.33      0.50         3\n",
      "\n",
      "    accuracy                           0.83        35\n",
      "   macro avg       0.70      0.46      0.52        35\n",
      "weighted avg       0.80      0.83      0.79        35\n",
      "\n"
     ]
    }
   ],
   "source": [
    "# 9. Treinar XGBoost com GridSearchCV\n",
    "\n",
    "X_train, X_test, y_train, y_test = train_test_split(x_vecs, labels, test_size=0.3, random_state=98, stratify=labels)\n",
    "\n",
    "clf = xgb.XGBClassifier(eval_metric='mlogloss')\n",
    "\n",
    "param_grid = {\n",
    "    'n_estimators': [50, 100],              # Número de árvores\n",
    "    'max_depth': [3, 10],                   # Profundidade máxima das árvores\n",
    "    'learning_rate': [0.01, 0.1],           # Taxa de aprendizado\n",
    "    'subsample': [0.8, 1.0],                # Subamostragem\n",
    "    'colsample_bytree': [0.8, 1.0],         # Colunas usadas em cada árvore\n",
    "    'gamma': [0.1, 0.5],                    # Regularização para reduzir overfitting\n",
    "}\n",
    "\n",
    "# Configurar GridSearchCV\n",
    "grid_search = GridSearchCV(\n",
    "    estimator=clf, param_grid=param_grid, \n",
    "    scoring='f1_macro', cv=2)\n",
    "\n",
    "# Treinando com o GridSearch\n",
    "grid_search.fit(X_train, y_train)\n",
    "\n",
    "# Melhor combinação de hiperparâmetros encontrada\n",
    "best_model = grid_search.best_estimator_\n",
    "y_pred = best_model.predict(X_test)\n",
    "\n",
    "print(f\"Melhores parâmetros: {grid_search.best_params_}\")\n",
    "\n",
    "print(classification_report(y_test, y_pred, zero_division=0))"
   ]
  },
  {
   "cell_type": "code",
   "execution_count": null,
   "metadata": {},
   "outputs": [
    {
     "name": "stdout",
     "output_type": "stream",
     "text": [
      "[0 0 0 0 0 0 0 0 0 0 0 0 3 3 3 3 0 0 0 0 0 0 0 0 0 0 0 1 1 1 0 3 0 0 0 0 0\n",
      " 0 0 0 0 0 1 0 1 1 0 0 0 0 0 0 0 0 0 0 0 0 0 0 0 0 0 0 0 0 1 0 0 0 0 0 0 0\n",
      " 0 0 0 0 0 0 0 0 0 0 0 0 0 0 0 0 0 0 0 0 0 0 0 0 0 0 1 1 0 1 1 2 2 2 2 2 2\n",
      " 3 3 3 3]\n"
     ]
    },
    {
     "data": {
      "text/plain": [
       "['./outputs/scaler.pkl']"
      ]
     },
     "execution_count": 119,
     "metadata": {},
     "output_type": "execute_result"
    },
    {
     "data": {
      "image/png": "[encoded data removed]",
      "text/plain": [
       "<Figure size 1000x800 with 2 Axes>"
      ]
     },
     "metadata": {},
     "output_type": "display_data"
    }
   ],
   "source": [
    "# 10. DUMP - Exportar melhor modelo 'C': 0.1, 'gamma': 'scale', 'kernel': 'linear'\n",
    "X_train, X_test, y_train, y_test = train_test_split(x_vecs, labels, test_size=0.3, random_state=98, stratify=labels)\n",
    "\n",
    "scaler = StandardScaler()\n",
    "\n",
    "X_train_scaled = scaler.fit_transform(X_train)\n",
    "\n",
    "X_test_scaled = scaler.transform(X_test)\n",
    "\n",
    "s = svm.SVC(C=0.1, gamma='scale', kernel='linear')\n",
    "\n",
    "s.fit(X_train_scaled, y_train)\n",
    "\n",
    "y_pred = s.predict(X_test_scaled)\n",
    "\n",
    "print(s.predict(scaler.transform(x_vecs)))\n",
    "\n",
    "## Matriz de confusão\n",
    "cm = confusion_matrix(y_test, y_pred)\n",
    "\n",
    "plt.figure(figsize=(10, 8)) \n",
    "\n",
    "sns.heatmap(cm, \n",
    "            annot=True, \n",
    "            fmt='d', \n",
    "            cmap=\"copper_r\",\n",
    "            linewidths=3,\n",
    "            linecolor=\"r\",\n",
    "            square=True,\n",
    "            xticklabels=['Sem Code Smell', \"String Ineficiente\", \"Featury Envy\", \"Long Parameter List\"], \n",
    "            yticklabels=['Sem Code Smell', \"String Ineficiente\", \"Featury Envy\", \"Long Parameter List\"])\n",
    "\n",
    "plt.ylabel('Label Verdadeira')\n",
    "plt.xlabel('Previsão')\n",
    "plt.tight_layout()\n",
    "plt.savefig('./outputs/confusion_matrix.png')\n",
    "\n",
    "joblib.dump(s, './outputs/svm_cbb.pkl')\n",
    "joblib.dump(scaler, './outputs/scaler.pkl')"
   ]
  }
 ],
 "metadata": {
  "kernelspec": {
   "display_name": "poc-v0",
   "language": "python",
   "name": "python3"
  },
  "language_info": {
   "codemirror_mode": {
    "name": "ipython",
    "version": 3
   },
   "file_extension": ".py",
   "mimetype": "text/x-python",
   "name": "python",
   "nbconvert_exporter": "python",
   "pygments_lexer": "ipython3",
   "version": "3.9.20"
  }
 },
 "nbformat": 4,
 "nbformat_minor": 2
}
